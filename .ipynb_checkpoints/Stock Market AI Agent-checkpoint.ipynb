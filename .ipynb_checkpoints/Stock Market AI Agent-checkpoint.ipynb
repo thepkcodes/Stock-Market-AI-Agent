{
 "cells": [
  {
   "cell_type": "code",
   "execution_count": 2,
   "id": "5cb0345f-be7a-4508-b2d9-54f47326fe25",
   "metadata": {},
   "outputs": [],
   "source": [
    "import yfinance as yf\n",
    "import pandas as pd\n",
    "import numpy as np\n",
    "import requests\n",
    "import json\n",
    "from sklearn.ensemble import RandomForestClassifier\n",
    "from sklearn.preprocessing import StandardScaler\n",
    "import matplotlib.pyplot as plt\n",
    "from datetime import datetime, timedelta\n",
    "import time\n",
    "import warnings\n",
    "warnings.filterwarnings('ignore')"
   ]
  },
  {
   "cell_type": "code",
   "execution_count": null,
   "id": "6cb3278d-b589-4fab-804e-a777ebf4f155",
   "metadata": {},
   "outputs": [],
   "source": [
    "class StockMarketAIAgent:\n",
    "    def __init__(self, api_key = None)"
   ]
  }
 ],
 "metadata": {
  "kernelspec": {
   "display_name": "Python [conda env:base] *",
   "language": "python",
   "name": "conda-base-py"
  },
  "language_info": {
   "codemirror_mode": {
    "name": "ipython",
    "version": 3
   },
   "file_extension": ".py",
   "mimetype": "text/x-python",
   "name": "python",
   "nbconvert_exporter": "python",
   "pygments_lexer": "ipython3",
   "version": "3.12.3"
  }
 },
 "nbformat": 4,
 "nbformat_minor": 5
}
