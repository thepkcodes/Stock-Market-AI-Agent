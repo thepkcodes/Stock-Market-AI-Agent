{
 "cells": [
  {
   "cell_type": "code",
   "execution_count": 2,
   "id": "5cb0345f-be7a-4508-b2d9-54f47326fe25",
   "metadata": {},
   "outputs": [],
   "source": [
    "import yfinance as yf\n",
    "import pandas as pd\n",
    "import numpy as np\n",
    "import requests\n",
    "import json\n",
    "from sklearn.ensemble import RandomForestClassifier\n",
    "from sklearn.preprocessing import StandardScaler\n",
    "import matplotlib.pyplot as plt\n",
    "from datetime import datetime, timedelta\n",
    "import time\n",
    "import warnings\n",
    "warnings.filterwarnings('ignore')"
   ]
  },
  {
   "cell_type": "code",
   "execution_count": null,
   "id": "6cb3278d-b589-4fab-804e-a777ebf4f155",
   "metadata": {},
   "outputs": [],
   "source": [
    "class StockMarketAIAgent:\n",
    "    def __init__(self, api_key = None):\n",
    "\n",
    "        self.api_key = api_key\n",
    "        self_models = {}\n",
    "        self_scaler = StandardScaler()\n",
    "        self.market_data = {}\n",
    "        self.sentiment_data = {}\n",
    "        self.risk_profiles = {\n",
    "            'conservative': {'volatility_weight': 0.8, 'momentum_weight': 0.2},\n",
    "            'moderate': {'volatility_weight':0.5, 'momentum_weight': 0.5},\n",
    "            'aggresive': {'volatility_weight': 0.2, 'momentum_weight': 0.8}\n",
    "        }\n",
    "    \n",
    "    def get_realtime_data(self, ticker_list):\n",
    "\n",
    "        print(f\"Fetching real-time data for {ticker_list}...\")\n",
    "        data = {}\n",
    "\n",
    "        for ticker in ticker_list:\n",
    "            try:\n",
    "                stock = yf.Ticker(ticker)\n",
    "                current_data = stock.history(period = 'id', interval = '1m').iloc[-1]\n",
    "\n",
    "                hist_data = stock_history(period = '60d')\n",
    "\n",
    "                hist_data['SMA_20'] = hist_data['Close'].rolling(window = 20).mean()\n",
    "                hist_data['SMA_50'] = hist_data['Close'].rolling(window = 50).mean()\n",
    "                hist_data['RSI'] = self._calculate_rsi(hist_data['Close'], 14)\n",
    "                hist_data['MCD'], hist_data['Signal'] = self._calculate_mcd(hist_data['Close'])\n",
    "                hist_data['Volatility'] = hist_data['Close'].rolling(window = 20).std()\n",
    "\n",
    "                latest = hist_data.iloc[-1]\n",
    "\n",
    "                data[ticker] = {\n",
    "                    'current_price': current_data['Close'],\n",
    "                    'volume': current_data['Volume'],\n",
    "                    'day_change_pct': ((current_data['Close'] / hist_data['Close'].iloc[-2]) - 1) * 100,\n",
    "                    'sma_20': latest['SMA_20'],\n",
    "                    'sma_50': latest['SMA_50'],\n",
    "                    'rsi': latest['RSI'],\n",
    "                    'macd': latest['MACD'],\n",
    "                    'signal': latest['Signal'],\n",
    "                    'volatility': latest['Volatility'],\n",
    "                    'price_to_sma20': current_data['Close'] / latest['SMA_20'] if not np.isnam(latest['SMA_20']) else 1,\n",
    "                    'price_to_sma50': current_data['Close'] / latest['SMA_50'] if not np.isnam(latest['SMA_50']) else 1,\n",
    "                    'hist_data': hist_data\n",
    "                }\n",
    "\n",
    "                info = stock\n",
    "                    \n",
    "                    "
   ]
  }
 ],
 "metadata": {
  "kernelspec": {
   "display_name": "Python [conda env:base] *",
   "language": "python",
   "name": "conda-base-py"
  },
  "language_info": {
   "codemirror_mode": {
    "name": "ipython",
    "version": 3
   },
   "file_extension": ".py",
   "mimetype": "text/x-python",
   "name": "python",
   "nbconvert_exporter": "python",
   "pygments_lexer": "ipython3",
   "version": "3.12.3"
  }
 },
 "nbformat": 4,
 "nbformat_minor": 5
}
